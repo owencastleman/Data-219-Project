{
  "nbformat": 4,
  "nbformat_minor": 0,
  "metadata": {
    "colab": {
      "provenance": [],
      "include_colab_link": true
    },
    "kernelspec": {
      "name": "python3",
      "display_name": "Python 3"
    },
    "language_info": {
      "name": "python"
    }
  },
  "cells": [
    {
      "cell_type": "markdown",
      "metadata": {
        "id": "view-in-github",
        "colab_type": "text"
      },
      "source": [
        "<a href=\"https://colab.research.google.com/github/owencastleman/Data-219-Project/blob/main/1_Getting_Cleaning_the_Data.ipynb\" target=\"_parent\"><img src=\"https://colab.research.google.com/assets/colab-badge.svg\" alt=\"Open In Colab\"/></a>"
      ]
    },
    {
      "cell_type": "markdown",
      "source": [
        "# Step 1: Getting and Cleaning the Data"
      ],
      "metadata": {
        "id": "q0n5LPbwwkmg"
      }
    },
    {
      "cell_type": "markdown",
      "source": [
        "We started with a very large dataframe with a good number of columns. https://catalog.data.gov/dataset/motor-vehicle-collisions-crashes/resource/b5a431d2-4832-43a6-9334-86b62bdb033f"
      ],
      "metadata": {
        "id": "B-xapQhWvjpE"
      }
    },
    {
      "cell_type": "code",
      "execution_count": null,
      "metadata": {
        "id": "qG-LI2YVvXnb"
      },
      "outputs": [],
      "source": [
        "import pandas as pd\n",
        "df = pd.read_csv('crashes.csv')"
      ]
    },
    {
      "cell_type": "markdown",
      "source": [
        "Because the dataframe is so large, we had to download it, and upload it to colab every time we wanted to access it. After we cleaned the data, we uploaded it to github to access the data easier."
      ],
      "metadata": {
        "id": "z1ARqpjayDDz"
      }
    },
    {
      "cell_type": "code",
      "source": [
        "df.rename(columns = {'ON STREET NAME':'Street'}, inplace=True)\n",
        "df.rename(columns = {'BOROUGH':'Neighborhood'}, inplace=True)\n",
        "df = df.drop(columns = ['VEHICLE TYPE CODE 5'])\n",
        "df = df.drop(columns = ['VEHICLE TYPE CODE 4'])\n",
        "df = df.drop(columns = ['VEHICLE TYPE CODE 3'])\n",
        "df = df.drop(columns = ['CONTRIBUTING FACTOR VEHICLE 5'])\n",
        "df = df.drop(columns = ['CONTRIBUTING FACTOR VEHICLE 4'])\n",
        "df = df.drop(columns = ['CONTRIBUTING FACTOR VEHICLE 3'])\n",
        "df = df.drop(columns = ['CONTRIBUTING FACTOR VEHICLE 2'])\n",
        "df.rename(columns = {'CRASH TIME':'Time of Crash'}, inplace=True)\n",
        "df.rename(columns = {'CRASH DATE':'Date of Crash'}, inplace=True)\n",
        "df['Street'] = df['Street'].fillna('Not Indicated')\n",
        "df['Neighborhood'] = df['Neighborhood'].fillna('Not Indicated')\n",
        "df['CROSS STREET NAME'] = df['CROSS STREET NAME'].fillna('Not Indicated')\n",
        "df['OFF STREET NAME'] = df['OFF STREET NAME'].fillna('Not Indicated')\n",
        "df = df.dropna(subset = ['LOCATION'])\n",
        "df['Time of Crash'] = df['Time of Crash'].str.split(':', expand=True)[0]\n",
        "df['Time of Crash'] = df['Time of Crash'].astype(int)\n",
        "df['Time of Crash'] = pd.cut(\n",
        "    df['Time of Crash'],\n",
        "    bins = [0,1,2,3,4,5,6,7,8,9,10,11,12,13,14,15,16,17,18,19,20,21,22,23,24],\n",
        "    labels = ['12-1am','1-2am','2-3am','3-4am','4-5am','5-6am','6-7am','7-8am','8-9am','9-10am','10-11am','11-12pm','12-1pm','1-2pm','2-3pm','3-4pm','4-5pm','5-6pm','6-7pm','7-8pm','8-9pm','9-10pm','10-11pm','11-12am'],\n",
        "    right=False)\n",
        "df.rename(columns = {'CONTRIBUTING FACTOR VEHICLE 1':'Cause of Crash'}, inplace=True)\n"
      ],
      "metadata": {
        "id": "eo5Wees9yNxw"
      },
      "execution_count": null,
      "outputs": []
    },
    {
      "cell_type": "markdown",
      "source": [
        "# Cleaned Data:\n",
        "\n",
        "*   dropped multiple columns that did not add value to our model\n",
        "*   renamed columns for easier access when referencing\n",
        "*   filled unknown values for some columns\n",
        "*   binned the time column to use it as categorical\n",
        "\n",
        "\n",
        "\n",
        "\n",
        "\n"
      ],
      "metadata": {
        "id": "HhMA4y8TypvD"
      }
    },
    {
      "cell_type": "code",
      "source": [
        "selected_values = ['Following Too Closely','Failure to Yield Right-of-Way','Backing Unsafely']\n",
        "\n",
        "df['Cause of Crash'].value_counts()\n",
        "\n",
        "df_new = df[df['Cause of Crash'].isin(selected_values)]\n",
        "\n",
        "df_new\n",
        "\n",
        "len(df_new)\n",
        "\n",
        "df_new.to_csv(\"Clean CSV.csv\")"
      ],
      "metadata": {
        "id": "1iMQW7yFzIxp"
      },
      "execution_count": null,
      "outputs": []
    },
    {
      "cell_type": "markdown",
      "source": [
        "To concliude the cleaning, we took all of the types of crashes out except:\n",
        "\n",
        "1.   Following Too Closely\n",
        "2.   Failure to Yield Right of Way\n",
        "1.   Backing Unsafely\n",
        "\n",
        "After finishing this, we saved it as a new csv file, and moved on to Data Exploration\n",
        "\n",
        "\n"
      ],
      "metadata": {
        "id": "WlN_wR1vzM-F"
      }
    }
  ]
}